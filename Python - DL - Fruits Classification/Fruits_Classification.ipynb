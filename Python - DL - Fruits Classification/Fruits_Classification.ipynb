{
  "nbformat": 4,
  "nbformat_minor": 0,
  "metadata": {
    "colab": {
      "provenance": []
    },
    "kernelspec": {
      "name": "python3",
      "display_name": "Python 3"
    },
    "language_info": {
      "name": "python"
    }
  },
  "cells": [
    {
      "cell_type": "code",
      "execution_count": null,
      "metadata": {
        "id": "H2xqg48CNbJ4"
      },
      "outputs": [],
      "source": [
        "import sys\n",
        "import os\n",
        "from tensorflow.keras.preprocessing.image import ImageDataGenerator\n",
        "from tensorflow.keras import optimizers\n",
        "from tensorflow.keras.models import Sequential\n",
        "from tensorflow.keras.layers import Dropout, Flatten, Dense, Activation\n",
        "from tensorflow.keras.layers import Convolution2D, MaxPooling2D\n",
        "from tensorflow.keras import backend as K\n",
        "K.clear_session()"
      ]
    },
    {
      "cell_type": "code",
      "source": [
        "from google.colab import drive\n",
        "drive.mount('/content/drive')"
      ],
      "metadata": {
        "colab": {
          "base_uri": "https://localhost:8080/"
        },
        "id": "0kfTVcNQNqdx",
        "outputId": "6e9c383b-24c2-4343-a8cb-b5920b758c64"
      },
      "execution_count": null,
      "outputs": [
        {
          "output_type": "stream",
          "name": "stdout",
          "text": [
            "Mounted at /content/drive\n"
          ]
        }
      ]
    },
    {
      "cell_type": "markdown",
      "source": [
        "## Data"
      ],
      "metadata": {
        "id": "LdxFC7gxv876"
      }
    },
    {
      "cell_type": "code",
      "source": [
        "# Directories of training and validation images\n",
        "training_data_dir = '/content/drive/MyDrive/4. Projects/DL - Fruits Classification/fruits_data/training'\n",
        "validation_data_dir = '/content/drive/MyDrive/4. Projects/DL - Fruits Classification/fruits_data/validation'"
      ],
      "metadata": {
        "id": "1gV2pHrBNvge"
      },
      "execution_count": null,
      "outputs": []
    },
    {
      "cell_type": "code",
      "source": [
        "# Sets the length and height in pixels of the images\n",
        "length, height = 150, 150\n",
        "\n",
        "# number of examples for the neural network at each training step\n",
        "batch_size = 16\n",
        "\n",
        "# sets of images for training and validation\n",
        "training_datagen = ImageDataGenerator(\n",
        "    rescale=1. / 255,\n",
        "    shear_range=0.2,\n",
        "    zoom_range=0.2,\n",
        "    horizontal_flip=True)\n",
        "\n",
        "test_datagen = ImageDataGenerator(\n",
        "    rescale=1. / 255)\n",
        "\n",
        "# Images for training and validation\n",
        "training_generator = training_datagen.flow_from_directory(\n",
        "    training_data_dir,\n",
        "    target_size=(length, height),\n",
        "    batch_size=batch_size,\n",
        "    class_mode='categorical')\n",
        "\n",
        "validation_generator = test_datagen.flow_from_directory(\n",
        "    validation_data_dir,\n",
        "    target_size=(length, height),\n",
        "    batch_size=batch_size,\n",
        "    class_mode='categorical')"
      ],
      "metadata": {
        "colab": {
          "base_uri": "https://localhost:8080/"
        },
        "id": "auu4eS_FOVv5",
        "outputId": "f6314ef0-060b-4ef5-9a9a-d0104ac3953e"
      },
      "execution_count": null,
      "outputs": [
        {
          "output_type": "stream",
          "name": "stdout",
          "text": [
            "Found 589 images belonging to 4 classes.\n",
            "Found 615 images belonging to 4 classes.\n"
          ]
        }
      ]
    },
    {
      "cell_type": "markdown",
      "source": [
        "## Neural network\n",
        "* Design the architecture of the neural network"
      ],
      "metadata": {
        "id": "PRqpQhiEwT0O"
      }
    },
    {
      "cell_type": "code",
      "source": [
        "# Creation of Sequential Input Layer\n",
        "cnn = Sequential()\n",
        "\n",
        "# Intermediate Convolutional Layer (Apply filtering to images)\n",
        "conv1_filters = 32\n",
        "filter1_size = (3, 3)\n",
        "cnn.add(Convolution2D(conv1_filters, filter1_size, padding =\"same\", input_shape=(length, height,3), activation='relu'))\n",
        "\n",
        "# Intermediate Layer - feature extraction\n",
        "pool_size = (2, 2)\n",
        "cnn.add(MaxPooling2D(pool_size=pool_size))\n",
        "\n",
        "# Intermediate Convolutional Layer (Apply filtering to images)\n",
        "conv2_filters = 64\n",
        "filter2_size = (2, 2)\n",
        "cnn.add(Convolution2D(conv2_filters, filter2_size, padding =\"same\"))\n",
        "\n",
        "# Intermediate Layer - feature extraction\n",
        "pool_size = (2, 2)\n",
        "cnn.add(MaxPooling2D(pool_size=pool_size))\n",
        "\n",
        "# Intermediate layer (flatten type) for identification\n",
        "cnn.add(Flatten())\n",
        "cnn.add(Dense(256, activation='relu'))\n",
        "cnn.add(Dropout(0.5))\n",
        "\n",
        "# Add Dense Output Layer for Result\n",
        "# Number of classes (tomatoes, apples, cucumbers, bananas)\n",
        "classes = 4\n",
        "cnn.add(Dense(classes, activation='softmax'))"
      ],
      "metadata": {
        "colab": {
          "base_uri": "https://localhost:8080/"
        },
        "id": "Iarw_liVwWni",
        "outputId": "22af369e-b55a-460e-d3bd-0a86a2dbca80"
      },
      "execution_count": 32,
      "outputs": [
        {
          "output_type": "stream",
          "name": "stderr",
          "text": [
            "/usr/local/lib/python3.10/dist-packages/keras/src/layers/convolutional/base_conv.py:107: UserWarning: Do not pass an `input_shape`/`input_dim` argument to a layer. When using Sequential models, prefer using an `Input(shape)` object as the first layer in the model instead.\n",
            "  super().__init__(activity_regularizer=activity_regularizer, **kwargs)\n"
          ]
        }
      ]
    },
    {
      "cell_type": "markdown",
      "source": [
        "## Optimization method\n",
        "* Select the optimization method, learning rate, and loss function."
      ],
      "metadata": {
        "id": "dJD1tw_35Y9u"
      }
    },
    {
      "cell_type": "code",
      "source": [
        "learning_rate = 0.0004\n",
        "\n",
        "cnn.compile(loss='categorical_crossentropy',\n",
        "            optimizer=optimizers.Adam(learning_rate=learning_rate),\n",
        "            metrics=['accuracy'])"
      ],
      "metadata": {
        "id": "ua0U05SL5cKo"
      },
      "execution_count": 33,
      "outputs": []
    },
    {
      "cell_type": "markdown",
      "source": [
        "## Neural network trainig"
      ],
      "metadata": {
        "id": "08Gq0HtL7sTp"
      }
    },
    {
      "cell_type": "markdown",
      "source": [],
      "metadata": {
        "id": "PJD3XwIfv4vb"
      }
    },
    {
      "cell_type": "code",
      "source": [
        "print('Network in learning process...')\n",
        "# The fit method trains the neural network, sending it as parameters\n",
        "# the input data, the results, the epochs and whether or not it is desired\n",
        "# to show comments during the training process\n",
        "\n",
        "cycles=20 # Number of learning cycles\n",
        "batch_size = 16 # Set of examples in a learning step\n",
        "steps = int(589/batch_size) # Number of steps in a learning cycle\n",
        "\n",
        "historial=cnn.fit(\n",
        "    training_generator,\n",
        "    steps_per_epoch=steps,\n",
        "    epochs=cycles,\n",
        "    validation_data=validation_generator,\n",
        "    validation_steps=steps//2)\n",
        "\n",
        "print('Neural Network Trained')\n",
        "\n",
        "# Create directory to save the trained neural network\n",
        "model_dir = '/content/drive/MyDrive/4. Projects/DL - Fruits Classification/fruits_data/model'\n",
        "if not os.path.exists(model_dir):\n",
        "  os.mkdir(model_dir)\n",
        "cnn.save('/content/drive/MyDrive/4. Projects/DL - Fruits Classification/fruits_data/model/model.h5')\n",
        "cnn.save_weights('/content/drive/MyDrive/4. Projects/DL - Fruits Classification/fruits_data/model/pesos.weights.h5')"
      ],
      "metadata": {
        "colab": {
          "base_uri": "https://localhost:8080/"
        },
        "id": "qB7OIjNH75A6",
        "outputId": "18aa4825-91aa-4c02-f6a5-18250c3fcc5b"
      },
      "execution_count": 34,
      "outputs": [
        {
          "output_type": "stream",
          "name": "stdout",
          "text": [
            "Network in learning process...\n",
            "Epoch 1/20\n",
            "\u001b[1m36/36\u001b[0m \u001b[32m━━━━━━━━━━━━━━━━━━━━\u001b[0m\u001b[37m\u001b[0m \u001b[1m40s\u001b[0m 1s/step - accuracy: 0.3976 - loss: 3.1019 - val_accuracy: 0.6910 - val_loss: 0.7894\n",
            "Epoch 2/20\n",
            "\u001b[1m 1/36\u001b[0m \u001b[37m━━━━━━━━━━━━━━━━━━━━\u001b[0m \u001b[1m32s\u001b[0m 922ms/step - accuracy: 0.3750 - loss: 1.3463"
          ]
        },
        {
          "output_type": "stream",
          "name": "stderr",
          "text": [
            "/usr/lib/python3.10/contextlib.py:153: UserWarning: Your input ran out of data; interrupting training. Make sure that your dataset or generator can generate at least `steps_per_epoch * epochs` batches. You may need to use the `.repeat()` function when building your dataset.\n",
            "  self.gen.throw(typ, value, traceback)\n"
          ]
        },
        {
          "output_type": "stream",
          "name": "stdout",
          "text": [
            "\b\b\b\b\b\b\b\b\b\b\b\b\b\b\b\b\b\b\b\b\b\b\b\b\b\b\b\b\b\b\b\b\b\b\b\b\b\b\b\b\b\b\b\b\b\b\b\b\b\b\b\b\b\b\b\b\b\b\b\b\b\b\b\b\b\b\b\b\b\b\b\b\b\b\b\r\u001b[1m36/36\u001b[0m \u001b[32m━━━━━━━━━━━━━━━━━━━━\u001b[0m\u001b[37m\u001b[0m \u001b[1m4s\u001b[0m 102ms/step - accuracy: 0.3750 - loss: 1.3463 - val_accuracy: 0.6910 - val_loss: 0.7962\n",
            "Epoch 3/20\n",
            "\u001b[1m36/36\u001b[0m \u001b[32m━━━━━━━━━━━━━━━━━━━━\u001b[0m\u001b[37m\u001b[0m \u001b[1m71s\u001b[0m 852ms/step - accuracy: 0.7135 - loss: 0.6601 - val_accuracy: 0.8205 - val_loss: 0.5220\n",
            "Epoch 4/20\n",
            "\u001b[1m36/36\u001b[0m \u001b[32m━━━━━━━━━━━━━━━━━━━━\u001b[0m\u001b[37m\u001b[0m \u001b[1m6s\u001b[0m 166ms/step - accuracy: 0.7692 - loss: 0.4716 - val_accuracy: 0.7847 - val_loss: 0.4584\n",
            "Epoch 5/20\n",
            "\u001b[1m36/36\u001b[0m \u001b[32m━━━━━━━━━━━━━━━━━━━━\u001b[0m\u001b[37m\u001b[0m \u001b[1m35s\u001b[0m 939ms/step - accuracy: 0.8079 - loss: 0.4448 - val_accuracy: 0.8021 - val_loss: 0.4165\n",
            "Epoch 6/20\n",
            "\u001b[1m36/36\u001b[0m \u001b[32m━━━━━━━━━━━━━━━━━━━━\u001b[0m\u001b[37m\u001b[0m \u001b[1m1s\u001b[0m 11ms/step - accuracy: 0.6875 - loss: 0.7376 - val_accuracy: 0.7179 - val_loss: 0.5259\n",
            "Epoch 7/20\n",
            "\u001b[1m36/36\u001b[0m \u001b[32m━━━━━━━━━━━━━━━━━━━━\u001b[0m\u001b[37m\u001b[0m \u001b[1m42s\u001b[0m 960ms/step - accuracy: 0.8349 - loss: 0.3959 - val_accuracy: 0.8403 - val_loss: 0.4030\n",
            "Epoch 8/20\n",
            "\u001b[1m36/36\u001b[0m \u001b[32m━━━━━━━━━━━━━━━━━━━━\u001b[0m\u001b[37m\u001b[0m \u001b[1m4s\u001b[0m 95ms/step - accuracy: 0.8750 - loss: 0.4782 - val_accuracy: 0.8333 - val_loss: 0.3927\n",
            "Epoch 9/20\n",
            "\u001b[1m36/36\u001b[0m \u001b[32m━━━━━━━━━━━━━━━━━━━━\u001b[0m\u001b[37m\u001b[0m \u001b[1m74s\u001b[0m 2s/step - accuracy: 0.8555 - loss: 0.3598 - val_accuracy: 0.8462 - val_loss: 0.7769\n",
            "Epoch 10/20\n",
            "\u001b[1m36/36\u001b[0m \u001b[32m━━━━━━━━━━━━━━━━━━━━\u001b[0m\u001b[37m\u001b[0m \u001b[1m4s\u001b[0m 105ms/step - accuracy: 0.7500 - loss: 0.5096 - val_accuracy: 0.7743 - val_loss: 0.5237\n",
            "Epoch 11/20\n",
            "\u001b[1m36/36\u001b[0m \u001b[32m━━━━━━━━━━━━━━━━━━━━\u001b[0m\u001b[37m\u001b[0m \u001b[1m37s\u001b[0m 990ms/step - accuracy: 0.8514 - loss: 0.3482 - val_accuracy: 0.8438 - val_loss: 0.3699\n",
            "Epoch 12/20\n",
            "\u001b[1m36/36\u001b[0m \u001b[32m━━━━━━━━━━━━━━━━━━━━\u001b[0m\u001b[37m\u001b[0m \u001b[1m2s\u001b[0m 15ms/step - accuracy: 0.8750 - loss: 0.2920 - val_accuracy: 0.8718 - val_loss: 0.3229\n",
            "Epoch 13/20\n",
            "\u001b[1m36/36\u001b[0m \u001b[32m━━━━━━━━━━━━━━━━━━━━\u001b[0m\u001b[37m\u001b[0m \u001b[1m35s\u001b[0m 942ms/step - accuracy: 0.8816 - loss: 0.2766 - val_accuracy: 0.8507 - val_loss: 0.3768\n",
            "Epoch 14/20\n",
            "\u001b[1m36/36\u001b[0m \u001b[32m━━━━━━━━━━━━━━━━━━━━\u001b[0m\u001b[37m\u001b[0m \u001b[1m4s\u001b[0m 100ms/step - accuracy: 1.0000 - loss: 0.1502 - val_accuracy: 0.8472 - val_loss: 0.4194\n",
            "Epoch 15/20\n",
            "\u001b[1m36/36\u001b[0m \u001b[32m━━━━━━━━━━━━━━━━━━━━\u001b[0m\u001b[37m\u001b[0m \u001b[1m36s\u001b[0m 907ms/step - accuracy: 0.8843 - loss: 0.3001 - val_accuracy: 0.8462 - val_loss: 0.3715\n",
            "Epoch 16/20\n",
            "\u001b[1m36/36\u001b[0m \u001b[32m━━━━━━━━━━━━━━━━━━━━\u001b[0m\u001b[37m\u001b[0m \u001b[1m4s\u001b[0m 98ms/step - accuracy: 0.7500 - loss: 0.4689 - val_accuracy: 0.8785 - val_loss: 0.3279\n",
            "Epoch 17/20\n",
            "\u001b[1m36/36\u001b[0m \u001b[32m━━━━━━━━━━━━━━━━━━━━\u001b[0m\u001b[37m\u001b[0m \u001b[1m38s\u001b[0m 1s/step - accuracy: 0.9137 - loss: 0.2361 - val_accuracy: 0.8646 - val_loss: 0.3541\n",
            "Epoch 18/20\n",
            "\u001b[1m36/36\u001b[0m \u001b[32m━━━━━━━━━━━━━━━━━━━━\u001b[0m\u001b[37m\u001b[0m \u001b[1m2s\u001b[0m 14ms/step - accuracy: 0.8750 - loss: 0.2608 - val_accuracy: 0.9487 - val_loss: 0.1497\n",
            "Epoch 19/20\n",
            "\u001b[1m36/36\u001b[0m \u001b[32m━━━━━━━━━━━━━━━━━━━━\u001b[0m\u001b[37m\u001b[0m \u001b[1m36s\u001b[0m 958ms/step - accuracy: 0.9182 - loss: 0.2435 - val_accuracy: 0.8819 - val_loss: 0.3017\n",
            "Epoch 20/20\n",
            "\u001b[1m36/36\u001b[0m \u001b[32m━━━━━━━━━━━━━━━━━━━━\u001b[0m\u001b[37m\u001b[0m \u001b[1m4s\u001b[0m 85ms/step - accuracy: 1.0000 - loss: 0.1699 - val_accuracy: 0.8750 - val_loss: 0.3055\n"
          ]
        },
        {
          "output_type": "stream",
          "name": "stderr",
          "text": [
            "WARNING:absl:You are saving your model as an HDF5 file via `model.save()` or `keras.saving.save_model(model)`. This file format is considered legacy. We recommend using instead the native Keras format, e.g. `model.save('my_model.keras')` or `keras.saving.save_model(model, 'my_model.keras')`. \n"
          ]
        },
        {
          "output_type": "stream",
          "name": "stdout",
          "text": [
            "Neural Network Trained\n"
          ]
        }
      ]
    },
    {
      "cell_type": "markdown",
      "source": [
        "### Results of the loss function"
      ],
      "metadata": {
        "id": "TEeOBAPJ9zqQ"
      }
    },
    {
      "cell_type": "code",
      "source": [
        "import matplotlib.pyplot as plt\n",
        "plt.xlabel('# Iteration')\n",
        "plt.ylabel('Magnitude of loss')\n",
        "plt.plot(historial.history['loss'])"
      ],
      "metadata": {
        "colab": {
          "base_uri": "https://localhost:8080/",
          "height": 467
        },
        "id": "SWqbhnIY98uu",
        "outputId": "ac246e1d-4d8a-4d47-d84a-e144aaedb747"
      },
      "execution_count": 35,
      "outputs": [
        {
          "output_type": "execute_result",
          "data": {
            "text/plain": [
              "[<matplotlib.lines.Line2D at 0x7f7c9ac2fd00>]"
            ]
          },
          "metadata": {},
          "execution_count": 35
        },
        {
          "output_type": "display_data",
          "data": {
            "text/plain": [
              "<Figure size 640x480 with 1 Axes>"
            ],
            "image/png": "[encoded data removed]"
          },
          "metadata": {}
        }
      ]
    },
    {
      "cell_type": "markdown",
      "source": [
        "## Neural network testing"
      ],
      "metadata": {
        "id": "5rzH7Ojl-DfT"
      }
    },
    {
      "cell_type": "code",
      "source": [
        "import numpy as np\n",
        "from tensorflow.keras.preprocessing.image import load_img, img_to_array\n",
        "from tensorflow.keras.models import load_model\n",
        "import os\n",
        "import cv2\n",
        "from time import sleep"
      ],
      "metadata": {
        "id": "wdBgbhiF-Ft6"
      },
      "execution_count": 36,
      "outputs": []
    },
    {
      "cell_type": "code",
      "source": [
        "# Load model trained neural network\n",
        "model = '/content/drive/MyDrive/4. Projects/DL - Fruits Classification/fruits_data/model/model.h5'\n",
        "model_weights = '/content/drive/MyDrive/4. Projects/DL - Fruits Classification/fruits_data/model/pesos.weights.h5'\n",
        "cnn = load_model(model)\n",
        "cnn.load_weights(model_weights)\n"
      ],
      "metadata": {
        "colab": {
          "base_uri": "https://localhost:8080/"
        },
        "id": "BZHXuVb-_xJK",
        "outputId": "ddbedf28-ac5b-423a-a624-c51244e7e5bb"
      },
      "execution_count": 37,
      "outputs": [
        {
          "output_type": "stream",
          "name": "stderr",
          "text": [
            "WARNING:absl:Compiled the loaded model, but the compiled metrics have yet to be built. `model.compile_metrics` will be empty until you train or evaluate the model.\n"
          ]
        }
      ]
    },
    {
      "cell_type": "markdown",
      "source": [
        "### Test 1"
      ],
      "metadata": {
        "id": "ayoy8f2W_yeZ"
      }
    },
    {
      "cell_type": "code",
      "source": [
        "# Image to be classified\n",
        "length, height = 150, 150\n",
        "file='/content/drive/MyDrive/4. Projects/DL - Fruits Classification/fruits_data/validation/cucumbers/150.jpg'\n",
        "x=load_img(file, target_size=(length, height))\n",
        "x=img_to_array(x)\n",
        "x=np.expand_dims(x, axis=0)\n",
        "\n",
        "# Image classification using the trained network model\n",
        "array=cnn.predict(x)\n",
        "print(array)\n",
        "result=array[0]\n",
        "print(result)\n",
        "answer=np.argmax(result)\n",
        "print(answer)\n",
        "if answer==0:print(\"It's a tomatoe\")\n",
        "if answer==1:print(\"It's an apple\")\n",
        "if answer==2:print(\"It's a cucumber\")\n",
        "if answer==3:print(\"It's a banana\")"
      ],
      "metadata": {
        "colab": {
          "base_uri": "https://localhost:8080/"
        },
        "id": "l89yi9H9-RS0",
        "outputId": "79db2f7d-7f97-453a-b191-f96b22600dc0"
      },
      "execution_count": 40,
      "outputs": [
        {
          "output_type": "stream",
          "name": "stdout",
          "text": [
            "\u001b[1m1/1\u001b[0m \u001b[32m━━━━━━━━━━━━━━━━━━━━\u001b[0m\u001b[37m\u001b[0m \u001b[1m0s\u001b[0m 65ms/step\n",
            "[[0. 0. 1. 0.]]\n",
            "[0. 0. 1. 0.]\n",
            "2\n",
            "It's a cucumber\n"
          ]
        }
      ]
    }
  ]
}